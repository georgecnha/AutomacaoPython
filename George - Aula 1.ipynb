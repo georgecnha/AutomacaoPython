{
 "cells": [
  {
   "cell_type": "markdown",
   "metadata": {},
   "source": [
    "# Automação de Sistemas e Processos com Python\n",
    "\n",
    "### Desafio:\n",
    "\n",
    "Todos os dias, o nosso sistema atualiza as vendas do dia anterior.\n",
    "O seu trabalho diário, como analista, é enviar um e-mail para a diretoria, assim que começar a trabalhar, com o faturamento e a quantidade de produtos vendidos no dia anterior\n",
    "\n",
    "E-mail da diretoria: seugmail+diretoria@gmail.com<br>\n",
    "Local onde o sistema disponibiliza as vendas do dia anterior: https://drive.google.com/drive/folders/149xknr9JvrlEnhNWO49zPcw0PW5icxga?usp=sharing\n",
    "\n",
    "Para resolver isso, vamos usar o pyautogui, uma biblioteca de automação de comandos do mouse e do teclado"
   ]
  },
  {
   "cell_type": "code",
   "execution_count": 49,
   "metadata": {},
   "outputs": [
    {
     "name": "stdout",
     "output_type": "stream",
     "text": [
      "Requirement already satisfied: pyautogui in c:\\users\\george pontes\\anaconda3\\lib\\site-packages (0.9.53)\n",
      "Requirement already satisfied: pygetwindow>=0.0.5 in c:\\users\\george pontes\\anaconda3\\lib\\site-packages (from pyautogui) (0.0.9)\n",
      "Requirement already satisfied: pyscreeze>=0.1.21 in c:\\users\\george pontes\\anaconda3\\lib\\site-packages (from pyautogui) (0.1.28)\n",
      "Requirement already satisfied: mouseinfo in c:\\users\\george pontes\\anaconda3\\lib\\site-packages (from pyautogui) (0.1.3)\n",
      "Requirement already satisfied: pymsgbox in c:\\users\\george pontes\\anaconda3\\lib\\site-packages (from pyautogui) (1.0.9)\n",
      "Requirement already satisfied: PyTweening>=1.0.1 in c:\\users\\george pontes\\anaconda3\\lib\\site-packages (from pyautogui) (1.0.4)\n",
      "Requirement already satisfied: pyrect in c:\\users\\george pontes\\anaconda3\\lib\\site-packages (from pygetwindow>=0.0.5->pyautogui) (0.1.4)\n",
      "Requirement already satisfied: Pillow>=6.2.1; python_version == \"3.8\" in c:\\users\\george pontes\\anaconda3\\lib\\site-packages (from pyscreeze>=0.1.21->pyautogui) (7.2.0)\n",
      "Requirement already satisfied: pyperclip in c:\\users\\george pontes\\anaconda3\\lib\\site-packages (from mouseinfo->pyautogui) (1.8.2)\n",
      "Requirement already satisfied: pyperclip in c:\\users\\george pontes\\anaconda3\\lib\\site-packages (1.8.2)\n"
     ]
    }
   ],
   "source": [
    "# instalar pyautogui - Biblioteca do Python\n",
    "\n",
    "!pip install pyautogui\n",
    "!pip install pyperclip"
   ]
  },
  {
   "cell_type": "code",
   "execution_count": 50,
   "metadata": {},
   "outputs": [],
   "source": [
    "import pyautogui\n",
    "import pyperclip\n",
    "import time\n",
    "pyautogui.PAUSE = 1\n",
    "\n",
    "#Passo 1 - Entrar no sistema da empresa\n",
    "\n",
    "#pyautogui.hotkey('win')\n",
    "#pyautogui.write('chrome')\n",
    "#pyautogui.hotkey('enter')https://mail.google.com/mail/u/0/#inbox\n",
    "\n",
    "#insere uma pausa de 3 segundos no código\n",
    "time.sleep(5)\n",
    "pyautogui.hotkey('ctrl', 't')\n",
    "time.sleep(5)\n",
    "pyperclip.copy('https://drive.google.com/drive/folders/149xknr9JvrlEnhNWO49zPcw0PW5icxga?usp=sharing')\n",
    "pyautogui.hotkey('ctrl', 'v')\n",
    "pyautogui.press('enter')\n",
    "\n",
    "\n",
    "#Passo 2 - Navegar na pasta\n",
    "time.sleep(9)\n",
    "pyautogui.doubleClick(x=335, y=270)\n",
    "\n",
    "#Passo 3 - Fazer download do arquivo\n",
    "\n",
    "time.sleep(5)\n",
    "pyautogui.click(x=340, y=357) #seleciona o arquivo\n",
    "time.sleep(2)\n",
    "pyautogui.click(x=1221, y=183)\n",
    "time.sleep(2)\n",
    "pyautogui.click(x=1047, y=529)\n",
    "time.sleep(2)\n",
    "\n"
   ]
  },
  {
   "cell_type": "markdown",
   "metadata": {},
   "source": [
    "### Vamos agora ler o arquivo baixado para pegar os indicadores\n",
    "\n",
    "- Faturamento\n",
    "- Quantidade de Produtos"
   ]
  },
  {
   "cell_type": "code",
   "execution_count": 51,
   "metadata": {},
   "outputs": [],
   "source": [
    "time.sleep(5)\n",
    "\n",
    "#Passo 4 - Calcular faturamento e quantidade de produtos vendidos\n",
    "import pandas as pd\n",
    "\n",
    "tabela = pd.read_excel(r\"C:\\Users\\George Pontes\\Downloads\\Vendas - Dez.xlsx\") \n",
    "#não esquece de colocar r antes do caminho por causa das contrabarras\n",
    "\n",
    "#display(tabela)\n",
    "\n",
    "faturamento = tabela['Valor Final'].sum() #soma a coluno\n",
    "quantidade = tabela[\"Quantidade\"].sum() #soma a coluna\n",
    "\n"
   ]
  },
  {
   "cell_type": "markdown",
   "metadata": {},
   "source": [
    "### Vamos agora enviar um e-mail pelo gmail"
   ]
  },
  {
   "cell_type": "code",
   "execution_count": 52,
   "metadata": {},
   "outputs": [],
   "source": [
    "#Passo 5 - Enviar e-mail com indicadores\n",
    "time.sleep(1)\n",
    "\n",
    "#entrar no e-mail\n",
    "pyautogui.hotkey('ctrl','t') #nova aba\n",
    "time.sleep(2)\n",
    "pyperclip.copy(\"https://mail.google.com/mail/u/0/#inbox\")\n",
    "pyautogui.hotkey('ctrl','v') #cola o endereço\n",
    "pyautogui.press('enter') \n",
    "time.sleep(11)\n",
    "\n",
    "#escrever o e-mail\n",
    "pyautogui.click(x=76, y=199) #clica em escrever\n",
    "time.sleep(20)\n",
    "pyperclip.copy(\"seugmail+diretoria@gmail.com\")\n",
    "pyautogui.hotkey('ctrl', 'v') #cola o endereço\n",
    "time.sleep(2)\n",
    "\n",
    "pyautogui.press('tab') #vai pro assunto\n",
    "pyperclip.copy(\"Relatório de Vendas\")\n",
    "pyautogui.hotkey('ctrl', 'v') #cola o endereço\n",
    "\n",
    "pyautogui.press('tab')\n",
    "\n",
    "\n",
    "#note o f antes do início da string. Ele indica a formatação\n",
    "texto = f\"\"\"\n",
    "Prezados\n",
    "\n",
    "O faturamento foi de R$ {faturamento:,.2f}\n",
    "A quantidade foi de {quantidade:,}\n",
    "\n",
    "Atenciosamente,\n",
    "George Pontes.\n",
    "\"\"\"\n",
    "\n",
    "pyautogui.write(texto) #escreve o e-mail\n",
    "\n",
    "pyautogui.hotkey(\"ctrl\", 'enter')"
   ]
  },
  {
   "cell_type": "markdown",
   "metadata": {},
   "source": [
    "#### Use esse código para descobrir qual a posição de um item que queira clicar\n",
    "\n",
    "- Lembre-se: a posição na sua tela é diferente da posição na minha tela"
   ]
  },
  {
   "cell_type": "code",
   "execution_count": 53,
   "metadata": {},
   "outputs": [
    {
     "data": {
      "text/plain": [
       "Point(x=1123, y=122)"
      ]
     },
     "execution_count": 53,
     "metadata": {},
     "output_type": "execute_result"
    }
   ],
   "source": [
    "#Pegar a posição do mouse\n",
    "\n",
    "time.sleep(7)\n",
    "pyautogui.position()\n"
   ]
  },
  {
   "cell_type": "code",
   "execution_count": null,
   "metadata": {},
   "outputs": [],
   "source": []
  }
 ],
 "metadata": {
  "kernelspec": {
   "display_name": "Python 3",
   "language": "python",
   "name": "python3"
  },
  "language_info": {
   "codemirror_mode": {
    "name": "ipython",
    "version": 3
   },
   "file_extension": ".py",
   "mimetype": "text/x-python",
   "name": "python",
   "nbconvert_exporter": "python",
   "pygments_lexer": "ipython3",
   "version": "3.8.3"
  }
 },
 "nbformat": 4,
 "nbformat_minor": 4
}
